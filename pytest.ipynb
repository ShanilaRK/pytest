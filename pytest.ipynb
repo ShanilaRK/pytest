{
  "nbformat": 4,
  "nbformat_minor": 0,
  "metadata": {
    "colab": {
      "provenance": []
    },
    "kernelspec": {
      "name": "python3",
      "display_name": "Python 3"
    },
    "language_info": {
      "name": "python"
    }
  },
  "cells": [
    {
      "cell_type": "code",
      "execution_count": 6,
      "metadata": {
        "colab": {
          "base_uri": "https://localhost:8080/"
        },
        "id": "SjukQqvJDFUb",
        "outputId": "74054126-c1a7-4e53-ebc0-d08c66d8c448"
      },
      "outputs": [
        {
          "output_type": "stream",
          "name": "stdout",
          "text": [
            "\u001b[36mRetrieving Poetry metadata\u001b[0m\n",
            "\n",
            "The latest version (\u001b[1m2.0.1\u001b[0m) is already installed.\n",
            "/bin/bash: line 1: poetry: command not found\n"
          ]
        }
      ],
      "source": [
        "#install Poetry\n",
        "\n",
        "!curl -sSL https://install.python-poetry.org | python3 -\n",
        "!export PATH=$PATH:~/.local/bin/\n",
        "!poetry --version\n"
      ]
    },
    {
      "cell_type": "code",
      "source": [
        "!poetry new --src pygreet"
      ],
      "metadata": {
        "colab": {
          "base_uri": "https://localhost:8080/"
        },
        "id": "ZyMthOXpEtJP",
        "outputId": "d1f1e80a-8917-430a-b98b-37811827f2cc"
      },
      "execution_count": 3,
      "outputs": [
        {
          "output_type": "stream",
          "name": "stdout",
          "text": [
            "/bin/bash: line 1: poetry: command not found\n"
          ]
        }
      ]
    },
    {
      "cell_type": "code",
      "source": [
        "import arrow\n",
        "\n",
        "def greet(tz):\n",
        "    \"\"\"Greet a location with the current time.\"\"\"\n",
        "    now = arrow.now(tz)\n",
        "    friendly_time = now.format(\"h:mm a\")\n",
        "    location = tz.split(\"/\")[-1].replace(\"_\", \" \")\n",
        "    return f\"Hello, {location}! The time is {friendly_time}.\""
      ],
      "metadata": {
        "colab": {
          "base_uri": "https://localhost:8080/",
          "height": 384
        },
        "id": "MlsPkUT4E0S9",
        "outputId": "a863ba76-fe30-43da-8811-5b4fa9017a82"
      },
      "execution_count": 11,
      "outputs": [
        {
          "output_type": "error",
          "ename": "ModuleNotFoundError",
          "evalue": "No module named 'arrow'",
          "traceback": [
            "\u001b[0;31m---------------------------------------------------------------------------\u001b[0m",
            "\u001b[0;31mModuleNotFoundError\u001b[0m                       Traceback (most recent call last)",
            "\u001b[0;32m<ipython-input-11-6e3737518f8e>\u001b[0m in \u001b[0;36m<cell line: 0>\u001b[0;34m()\u001b[0m\n\u001b[0;32m----> 1\u001b[0;31m \u001b[0;32mimport\u001b[0m \u001b[0marrow\u001b[0m\u001b[0;34m\u001b[0m\u001b[0;34m\u001b[0m\u001b[0m\n\u001b[0m\u001b[1;32m      2\u001b[0m \u001b[0;34m\u001b[0m\u001b[0m\n\u001b[1;32m      3\u001b[0m \u001b[0;32mdef\u001b[0m \u001b[0mgreet\u001b[0m\u001b[0;34m(\u001b[0m\u001b[0mtz\u001b[0m\u001b[0;34m)\u001b[0m\u001b[0;34m:\u001b[0m\u001b[0;34m\u001b[0m\u001b[0;34m\u001b[0m\u001b[0m\n\u001b[1;32m      4\u001b[0m     \u001b[0;34m\"\"\"Greet a location with the current time.\"\"\"\u001b[0m\u001b[0;34m\u001b[0m\u001b[0;34m\u001b[0m\u001b[0m\n\u001b[1;32m      5\u001b[0m     \u001b[0mnow\u001b[0m \u001b[0;34m=\u001b[0m \u001b[0marrow\u001b[0m\u001b[0;34m.\u001b[0m\u001b[0mnow\u001b[0m\u001b[0;34m(\u001b[0m\u001b[0mtz\u001b[0m\u001b[0;34m)\u001b[0m\u001b[0;34m\u001b[0m\u001b[0;34m\u001b[0m\u001b[0m\n",
            "\u001b[0;31mModuleNotFoundError\u001b[0m: No module named 'arrow'",
            "",
            "\u001b[0;31m---------------------------------------------------------------------------\u001b[0;32m\nNOTE: If your import is failing due to a missing package, you can\nmanually install dependencies using either !pip or !apt.\n\nTo view examples of installing some common dependencies, click the\n\"Open Examples\" button below.\n\u001b[0;31m---------------------------------------------------------------------------\u001b[0m\n"
          ],
          "errorDetails": {
            "actions": [
              {
                "action": "open_url",
                "actionText": "Open Examples",
                "url": "/notebooks/snippets/importing_libraries.ipynb"
              }
            ]
          }
        }
      ]
    },
    {
      "cell_type": "code",
      "source": [
        "poetry add arrow"
      ],
      "metadata": {
        "id": "SCaywBrVFh79"
      },
      "execution_count": null,
      "outputs": []
    },
    {
      "cell_type": "code",
      "source": [
        "poetry install"
      ],
      "metadata": {
        "id": "PPqe8xZfFmMX"
      },
      "execution_count": null,
      "outputs": []
    },
    {
      "cell_type": "code",
      "source": [
        "[pygreet]$ poetry run python\n",
        ">>> from greet.location import greet\n",
        ">>> greet(\"Asia/Shanghai\")\n",
        "'Hello, Shanghai! The time is 4:05 am.'\n",
        ">>>"
      ],
      "metadata": {
        "id": "XCCOywLrFqX6"
      },
      "execution_count": null,
      "outputs": []
    },
    {
      "cell_type": "code",
      "source": [
        "[pygreet]$ poetry shell\n",
        "Spawning shell within\n",
        "~/.cache/pypoetry/virtualenvs/pygreet-abcd1234-py3.8\n",
        "[pygreet]$ . ~/.cache/pypoetry/virtualenvs/pygreet-abcd1234-py3.8/bin/activate\n",
        "(pygreet-abcd1234-py3.8) [pygreet]$ python\n",
        ">>> from greet.location import greet\n",
        ">>>"
      ],
      "metadata": {
        "id": "PCFtROydFssO"
      },
      "execution_count": null,
      "outputs": []
    },
    {
      "cell_type": "code",
      "source": [
        "from greet.location import greet\n",
        "\n",
        "def test_greet():\n",
        "    result = greet(\"America/New_York\")\n",
        "    assert \"New York!\" in result"
      ],
      "metadata": {
        "id": "UwUDzBgAFu67"
      },
      "execution_count": null,
      "outputs": []
    }
  ]
}